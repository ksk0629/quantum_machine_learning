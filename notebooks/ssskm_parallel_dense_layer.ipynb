{
 "cells": [
  {
   "cell_type": "code",
   "execution_count": 1,
   "id": "970c4b0a-bd3a-45e4-8258-99a69e3f10e5",
   "metadata": {},
   "outputs": [],
   "source": [
    "%load_ext autoreload\n",
    "%autoreload 2"
   ]
  },
  {
   "cell_type": "code",
   "execution_count": 2,
   "id": "5ac8d482-c9bb-4d6e-bb97-0225a63c60e5",
   "metadata": {},
   "outputs": [],
   "source": [
    "# Set paths in order to import packages correctly.\n",
    "import sys\n",
    "import os\n",
    "sys.path.append(os.path.abspath(\"./..\")) \n",
    "sys.path.append(\"./../quantum_machine_learning\")"
   ]
  },
  {
   "cell_type": "markdown",
   "id": "1a254437-aca8-42ed-bbf3-2836571be211",
   "metadata": {},
   "source": [
    "# `SSSKMParallelDenseLayer`"
   ]
  },
  {
   "cell_type": "code",
   "execution_count": 3,
   "id": "ac7eee3f-2eb3-433f-95a2-806a551c990b",
   "metadata": {},
   "outputs": [],
   "source": [
    "# Import the necessary packages.\n",
    "import matplotlib.pyplot as plt\n",
    "import numpy as np\n",
    "import qiskit\n",
    "from qiskit.primitives import BackendEstimatorV2\n",
    "import qiskit_aer\n",
    "from qiskit_aer.primitives import EstimatorV2\n",
    "import torch\n",
    "from tqdm.auto import tqdm\n",
    "\n",
    "from quantum_machine_learning.dataset_gallery.dataset_gallery import DatasetGallery\n",
    "from quantum_machine_learning.layers.blocks.ssskm_parallel_dense_layer import SSSKMParallelDenseLayer\n",
    "from quantum_machine_learning.utils.utils import Utils"
   ]
  },
  {
   "cell_type": "code",
   "execution_count": 4,
   "id": "e7a9944e-980d-42d8-a95b-5c1d418881a9",
   "metadata": {},
   "outputs": [],
   "source": [
    "Utils.fix_seed(901)"
   ]
  },
  {
   "cell_type": "markdown",
   "id": "ff1b8599-7760-404e-9dc8-f3b9f5ba1bd5",
   "metadata": {},
   "source": [
    "Define a Torch customer layer by `SSSKMParallelDenseLayer` to incoporate with `torch.nn.Module`."
   ]
  },
  {
   "cell_type": "code",
   "execution_count": 5,
   "id": "0b60c13f-a883-4dbf-a500-c62c6d926ef6",
   "metadata": {},
   "outputs": [],
   "source": [
    "class QuantumParallelDense(torch.nn.Module):\n",
    "    def __init__(self,\n",
    "                 num_qubits: int,\n",
    "                 num_reputations: int,\n",
    "                 num_layers: int,\n",
    "                 backend: qiskit.providers.BackendV2 = qiskit_aer.AerSimulator(),\n",
    "                 estimator_class: BackendEstimatorV2 = EstimatorV2,\n",
    "                 shots: int = 8192,\n",
    "                 seed: int = 901,\n",
    "                 optimisation_level: int = 3,\n",
    "                 trainable_parameter_values: list[list[float]] | None = None\n",
    "                ) -> None:\n",
    "        super().__init__()\n",
    "        self.num_qubits = num_qubits\n",
    "        self.num_reputations = num_reputations\n",
    "        self.num_layers = num_layers\n",
    "        self.backend = backend\n",
    "        self.estimator_class = estimator_class\n",
    "        self.shots = shots\n",
    "        self.seed = seed\n",
    "        self.optimisation_level = optimisation_level\n",
    "\n",
    "        if trainable_parameter_values is None:\n",
    "            trainable_parameter_values = torch.rand(self.num_layers, 3 * self.num_qubits * self.num_reputations).tolist()\n",
    "        self.parallel_dense = SSSKMParallelDenseLayer(\n",
    "            num_qubits=self.num_qubits,\n",
    "            num_reputations=self.num_reputations,\n",
    "            num_layers=self.num_layers,\n",
    "            trainable_parameter_values=trainable_parameter_values\n",
    "        )\n",
    "\n",
    "    def forward(self, x: torch.Tensor) -> torch.Tensor:\n",
    "        x_list = []\n",
    "        for _x in x.tolist():\n",
    "            x_list.append(\n",
    "                self.parallel_dense.run(\n",
    "                    data=_x, backend=self.backend, estimator_class=self.estimator_class,\n",
    "                    shots=self.shots, seed=self.seed, optimisation_level=self.optimisation_level,\n",
    "                )\n",
    "            )\n",
    "        return torch.Tensor(x_list)\n",
    "\n",
    "    def extra_repr(self) -> str:\n",
    "        return f\"num_qubits={self.num_qubits}, num_reputations={self.num_reputations}, num_layers={self.num_layers}\""
   ]
  },
  {
   "cell_type": "markdown",
   "id": "de4cbf5d-69cf-428e-8b85-59cbb7cbac81",
   "metadata": {},
   "source": [
    "Define `HQNNParallel` class, which inherits `torch.nn.Module` as same as the proposal in the original paper."
   ]
  },
  {
   "cell_type": "code",
   "execution_count": 6,
   "id": "136e56a8-ddf6-4a0b-8051-7d90ef7c38f0",
   "metadata": {},
   "outputs": [],
   "source": [
    "class HQNNParallel(torch.nn.Module):\n",
    "    \"\"\"\n",
    "    HQNNParallel class for Mnist, of which input shape is (28, 28) and the number of classes is 10.\n",
    "    \"\"\"\n",
    "    def __init__(self,\n",
    "                 num_qubits: int,\n",
    "                 num_reputations: int,\n",
    "                 num_layers: int,\n",
    "                 num_classes: int,\n",
    "                 backend: qiskit.providers.BackendV2 = qiskit_aer.AerSimulator(),\n",
    "                 estimator_class: BackendEstimatorV2 = EstimatorV2,\n",
    "                 shots: int = 8192,\n",
    "                 seed: int = 901,\n",
    "                 optimisation_level: int = 3,\n",
    "                 trainable_parameter_values: list[list[float]] | None = None\n",
    "                ):\n",
    "        torch.manual_seed(seed)\n",
    "        super(HQNNParallel, self).__init__()\n",
    "        self.conv1 = torch.nn.Conv2d(1, 16, kernel_size=5, padding=2, stride=1, dilation=1)  # 16x28x28\n",
    "        self.max_pool1 = torch.nn.MaxPool2d(kernel_size=2, stride=2, padding=0, dilation=1)  # 16x14x14\n",
    "        self.conv2 = torch.nn.Conv2d(16, 32, kernel_size=5, padding=2, stride=1, dilation=1)  # 32x14x14\n",
    "        self.max_pool2 = torch.nn.MaxPool2d(kernel_size=2, stride=2, padding=0, dilation=1)  # 32x7x7\n",
    "        \n",
    "        self.flatten = torch.nn.Flatten()  # 1568 = 32*7*7\n",
    "\n",
    "        self.fc = torch.nn.Linear(1568, num_qubits * num_layers)\n",
    "\n",
    "        self.quantum_paralell_dense = QuantumParallelDense(\n",
    "            num_qubits=num_qubits,\n",
    "            num_reputations=num_reputations,\n",
    "            num_layers=num_layers,\n",
    "            backend=backend,\n",
    "            estimator_class=estimator_class,\n",
    "            shots=shots,\n",
    "            seed=seed,\n",
    "            optimisation_level=optimisation_level,\n",
    "            trainable_parameter_values=trainable_parameter_values\n",
    "        )\n",
    "\n",
    "        self.output = torch.nn.Linear(num_qubits * num_layers, num_classes)\n",
    "\n",
    "        self.relu = torch.nn.functional.relu\n",
    "        self.softmax = torch.nn.Softmax(dim=1)\n",
    "\n",
    "    def forward(self, x):\n",
    "        x = self.relu(self.conv1(x))\n",
    "        x = self.max_pool1(x)\n",
    "        x = self.relu(self.conv2(x))\n",
    "        x = self.max_pool2(x)\n",
    "        x = self.flatten(x)\n",
    "        x = self.fc(x)\n",
    "        x = self.quantum_paralell_dense(x)\n",
    "        probabilities = self.softmax(self.output(x))\n",
    "        return probabilities\n",
    "\n",
    "    def classify(self, x: torch.Tensor) -> torch.Tensor:\n",
    "        probabilities = self.forward(x)\n",
    "        return torch.argmax(probabilities, dim=1)"
   ]
  },
  {
   "cell_type": "code",
   "execution_count": 7,
   "id": "c5ee0955-c8e7-4ab5-adb3-bb839428addb",
   "metadata": {},
   "outputs": [
    {
     "data": {
      "text/plain": [
       "HQNNParallel(\n",
       "  (conv1): Conv2d(1, 16, kernel_size=(5, 5), stride=(1, 1), padding=(2, 2))\n",
       "  (max_pool1): MaxPool2d(kernel_size=2, stride=2, padding=0, dilation=1, ceil_mode=False)\n",
       "  (conv2): Conv2d(16, 32, kernel_size=(5, 5), stride=(1, 1), padding=(2, 2))\n",
       "  (max_pool2): MaxPool2d(kernel_size=2, stride=2, padding=0, dilation=1, ceil_mode=False)\n",
       "  (flatten): Flatten(start_dim=1, end_dim=-1)\n",
       "  (fc): Linear(in_features=1568, out_features=20, bias=True)\n",
       "  (quantum_paralell_dense): QuantumParallelDense(num_qubits=5, num_reputations=3, num_layers=4)\n",
       "  (output): Linear(in_features=20, out_features=2, bias=True)\n",
       "  (softmax): Softmax(dim=1)\n",
       ")"
      ]
     },
     "execution_count": 7,
     "metadata": {},
     "output_type": "execute_result"
    }
   ],
   "source": [
    "torch.manual_seed(901)\n",
    "\n",
    "num_qubits = 5\n",
    "num_reputations = 3\n",
    "num_layers = 4\n",
    "\n",
    "hqnn_parallel = HQNNParallel(\n",
    "    num_qubits=num_qubits,\n",
    "    num_reputations=num_reputations,\n",
    "    num_layers=num_layers,\n",
    "    num_classes=2\n",
    ")\n",
    "hqnn_parallel"
   ]
  },
  {
   "cell_type": "code",
   "execution_count": 8,
   "id": "78abbdc0-2e10-46b3-aba4-4ab7f5a67315",
   "metadata": {},
   "outputs": [
    {
     "data": {
      "text/plain": [
       "tensor([[0.5027, 0.4973],\n",
       "        [0.5077, 0.4923],\n",
       "        [0.5028, 0.4972]], grad_fn=<SoftmaxBackward0>)"
      ]
     },
     "execution_count": 8,
     "metadata": {},
     "output_type": "execute_result"
    }
   ],
   "source": [
    "# Check if it works well.\n",
    "data = torch.rand(3, 1, 28, 28)\n",
    "hqnn_parallel(data)"
   ]
  },
  {
   "cell_type": "code",
   "execution_count": 9,
   "id": "94fc301c-8a21-4690-a36a-5b31f5b9b299",
   "metadata": {},
   "outputs": [],
   "source": [
    "class TorchTrainer:\n",
    "    \"\"\"Trainer class.\"\"\"\n",
    "\n",
    "    def __init__(\n",
    "        self,\n",
    "        model: torch.nn.Module,\n",
    "        quantum_lr: float,\n",
    "        classical_lr: float,\n",
    "    ):\n",
    "        self.model = model\n",
    "        self.quantum_lr = quantum_lr\n",
    "        self.classical_lr = classical_lr\n",
    "        self.current_epoch = 0\n",
    "        self.freeze_quantum = False\n",
    "        self.freeze_classical = False\n",
    "\n",
    "        self.criterion = torch.nn.CrossEntropyLoss()\n",
    "        self.optimiser = torch.optim.Adam(self.model.named_parameters())\n",
    "\n",
    "        self.train_loss_history = []\n",
    "        self.test_loss_history = []\n",
    "\n",
    "        self.train_accuracy_history = []\n",
    "        self.test_accuracy_history = []\n",
    "\n",
    "        if torch.cuda.is_available():\n",
    "            self.device = torch.device(\"cuda:0\")\n",
    "        elif torch.backends.mps.is_available():\n",
    "            self.device = torch.device(\"mps\")\n",
    "        else:\n",
    "            self.device = torch.device(\"cpu\")\n",
    "\n",
    "    def __update(self, data: torch.Tensor, label: torch.Tensor) -> float:\n",
    "        # Initialise the gradients.\n",
    "        self.optimiser.zero_grad()\n",
    "        # Calculate the loss for the classical part.\n",
    "        loss = self.__calculate_loss(data=data, label=label)\n",
    "        if not self.freeze_quantum:\n",
    "            # Calculate the update term for the quantum part.\n",
    "            quantum_update_term = self.__calculate_quanatum_update_term(data=data, label=label)\n",
    "        \n",
    "        if not self.freeze_classical:\n",
    "            # Perform the backpropagation for the classical part.\n",
    "            loss.backward()\n",
    "\n",
    "            # Update the classical parameters.\n",
    "            self.optimiser.step()\n",
    "        \n",
    "        if not self.freeze_quantum:\n",
    "            # Update the quantum parameters.\n",
    "            self.model.quantum_paralell_dense.parallel_dense._trainable_parameter_values = (\n",
    "                np.array(self.model.quantum_paralell_dense.parallel_dense._trainable_parameter_values) - (self.quantum_lr * np.array(quantum_update_term))\n",
    "            ).tolist()\n",
    "\n",
    "        return loss.item()\n",
    "\n",
    "    def __calculate_loss(\n",
    "        self, data: torch.Tensor, label: torch.Tensor\n",
    "    ) -> torch.nn.modules.loss._Loss:\n",
    "        # Classify the data.\n",
    "        output = self.model(data)\n",
    "        # Calculate the loss value and accumulate it.\n",
    "        loss = self.criterion(output, label)\n",
    "\n",
    "        return loss\n",
    "\n",
    "    def __calculate_quanatum_update_term(\n",
    "        self, data: torch.Tensor, label: torch.Tensor\n",
    "    ) -> list[list[float]]:\n",
    "        update_terms = []\n",
    "        with tqdm(range(self.model.quantum_paralell_dense.num_layers), leave=False) as tlayers:\n",
    "            tlayers.set_description(f\"Completed Calculation for Quantum Update Term per Layer\")\n",
    "\n",
    "            for layer_index in tlayers:\n",
    "                # Get the corresponding layer, parameters and parameter values.\n",
    "                trainable_parameter_values = self.model.quantum_paralell_dense.parallel_dense._trainable_parameter_values[layer_index]\n",
    "    \n",
    "                update_terms_for_one_layer = []\n",
    "                for parameter_index in range(len(trainable_parameter_values)):\n",
    "                    trainable_parameter_values_np = np.array(trainable_parameter_values)\n",
    "                    \n",
    "                    # Calculate forward shifted loss.\n",
    "                    trainable_parameter_values_np[parameter_index] += np.pi / 2\n",
    "                    self.model.quantum_paralell_dense.parallel_dense._trainable_parameter_values[layer_index] = (\n",
    "                        trainable_parameter_values_np.tolist()\n",
    "                    )\n",
    "                    forward_loss = self.__calculate_loss(data=data, label=label)\n",
    "    \n",
    "                    # Calculate backward shifted loss.\n",
    "                    trainable_parameter_values_np[parameter_index] -= np.pi\n",
    "                    self.model.quantum_paralell_dense.parallel_dense._trainable_parameter_values[layer_index] = (\n",
    "                        trainable_parameter_values_np.tolist()\n",
    "                    )\n",
    "                    backward_loss = self.__calculate_loss(data=data, label=label)\n",
    "    \n",
    "                    update_terms_for_one_layer.append(0.5 * (forward_loss.item() - backward_loss.item()))\n",
    "                update_terms.append(update_terms_for_one_layer)\n",
    "    \n",
    "                self.model.quantum_paralell_dense.parallel_dense._trainable_parameter_values[layer_index] = trainable_parameter_values\n",
    "\n",
    "        return update_terms\n",
    "        \n",
    "    def __train_one_epoch(self, train_loader: torch.utils.data.DataLoader):\n",
    "        \"\"\"Train the model.\"\"\"\n",
    "        self.model.train()\n",
    "\n",
    "        train_loss = 0\n",
    "        with tqdm(train_loader) as tepoch:\n",
    "            # Initialise the count of correctly predicted data.\n",
    "            total_correct = 0\n",
    "            total = 0\n",
    "\n",
    "            losses = []\n",
    "            accuracies = []\n",
    "            for data, label in tepoch:\n",
    "                # Set the description.\n",
    "                tepoch.set_description(f\"Epoch {self.current_epoch} (train)\")\n",
    "\n",
    "                # Transfer the data and label to the device.\n",
    "                data, label = data.to(self.device), label.to(self.device)\n",
    "\n",
    "                # Update the parameters.\n",
    "                loss_value = self.__update(data=data, label=label)\n",
    "                train_loss += loss_value\n",
    "                losses.append(loss_value)\n",
    "\n",
    "                # Get the number of correctly predicted ones.\n",
    "                predicted_label = self.model.classify(data)\n",
    "                num_correct = (predicted_label == label).sum().item()\n",
    "                total_correct += num_correct\n",
    "                total += len(label)\n",
    "\n",
    "                # Set the current loss and accuracy.\n",
    "                batch_accuracy = num_correct / len(label)\n",
    "                accuracies.append(batch_accuracy)\n",
    "                epoch_loss = (np.array(losses).sum() / len(losses))\n",
    "                epoch_accuracy = (np.array(accuracies).sum() / len(losses))\n",
    "                tepoch.set_postfix(\n",
    "                    {\"Avg_loss_train\": f\"{epoch_loss :.2f}\", \"Avg_accuracy_train\": f\"{epoch_accuracy:.2f}\"}\n",
    "                )\n",
    "\n",
    "        # Store the loss value.\n",
    "        average_train_loss = train_loss / len(train_loader)\n",
    "        self.train_loss_history.append(average_train_loss)\n",
    "\n",
    "        # Store the accuracy.\n",
    "        accuracy = total_correct / total\n",
    "        self.train_accuracy_history.append(accuracy)\n",
    "\n",
    "    def __eval_one_epoch(self, validation_loader: torch.utils.data.DataLoader):\n",
    "        \"\"\"Evaluate the model.\"\"\"\n",
    "        self.model.eval()\n",
    "\n",
    "        test_loss = 0\n",
    "        with tqdm(validation_loader) as tepoch:\n",
    "            with torch.no_grad():  # without calculating the gradients.\n",
    "                # Initialise the count of correctly predicted data.\n",
    "                total_correct = 0\n",
    "                total = 0\n",
    "\n",
    "                losses = []\n",
    "                accuracies = []\n",
    "                for data, label in tepoch:\n",
    "                    # Set the description.\n",
    "                    tepoch.set_description(f\"Epoch {self.current_epoch} (test)\")\n",
    "\n",
    "                    # Transfer the data and label to the device.\n",
    "                    data, label = data.to(self.device), label.to(self.device)\n",
    "                    # Calculate the loss.\n",
    "                    loss_value = self.__calculate_loss(data=data, label=label).item()\n",
    "                    test_loss += loss_value\n",
    "                    losses.append(loss_value)\n",
    "\n",
    "                    # Get the number of correctly predicted ones.\n",
    "                    predicted_label = self.model.classify(data)\n",
    "                    num_correct = (predicted_label == label).sum().item()\n",
    "                    total_correct += num_correct\n",
    "                    total += len(label)\n",
    "\n",
    "                    # Set the current loss and accuracy.\n",
    "                    batch_accuracy = num_correct / len(label)\n",
    "                    accuracies.append(batch_accuracy)\n",
    "                    \n",
    "                    epoch_loss = (np.array(losses).sum() / len(losses))\n",
    "                    epoch_accuracy = (np.array(accuracies).sum() / len(losses))\n",
    "                    tepoch.set_postfix(\n",
    "                        {\"Avg_loss_train\": f\"{epoch_loss :.2f}\", \"Avg_accuracy_train\": f\"{epoch_accuracy:.2f}\"}\n",
    "                    )\n",
    "        # Store the loss value.\n",
    "        average_test_loss = test_loss / len(validation_loader)\n",
    "        self.test_loss_history.append(average_test_loss)\n",
    "\n",
    "        # Store the accuracy.\n",
    "        accuracy = total_correct / total\n",
    "        self.test_accuracy_history.append(accuracy)\n",
    "\n",
    "    def train_and_eval(\n",
    "        self,\n",
    "        train_loader: torch.utils.data.DataLoader,\n",
    "        validation_loader: torch.utils.data.DataLoader,\n",
    "        epochs: int,\n",
    "    ):\n",
    "        \"\"\"Train and evaluate the model self.epochs times.\"\"\"\n",
    "        for current_epoch in range(1, epochs + 1):\n",
    "            self.current_epoch = current_epoch\n",
    "            self.__train_one_epoch(train_loader=train_loader)\n",
    "            # self.__eval_one_epoch(validation_loader=validation_loader)"
   ]
  },
  {
   "cell_type": "code",
   "execution_count": 10,
   "id": "590b0c1a-d92b-452b-8204-7396d2d2130c",
   "metadata": {
    "jupyter": {
     "source_hidden": true
    }
   },
   "outputs": [],
   "source": [
    "class PlainDataset(torch.utils.data.Dataset):\n",
    "    \"\"\"PlainDataset class\"\"\"\n",
    "\n",
    "    def __init__(self, x: torch.Tensor, y: torch.Tensor):\n",
    "        \"\"\"Initialise this dataset.\n",
    "\n",
    "        :param torch.Tensor x: data\n",
    "        :param torch.Tensor y: labels\n",
    "        \"\"\"\n",
    "        self.x = x\n",
    "        self.y = y\n",
    "\n",
    "    def __len__(self):\n",
    "        return len(self.x)\n",
    "\n",
    "    def __getitem__(self, idx):\n",
    "        return self.x[idx], self.y[idx]"
   ]
  },
  {
   "cell_type": "code",
   "execution_count": 11,
   "id": "e0fc2b6d-4c74-4f00-af80-79dc733d202c",
   "metadata": {},
   "outputs": [
    {
     "name": "stdout",
     "output_type": "stream",
     "text": [
      "tensor(42)\n",
      "tensor(58)\n"
     ]
    }
   ],
   "source": [
    "images, labels = DatasetGallery.get_hor_ver_images(\n",
    "    num_images=100,\n",
    "    image_shape=(28, 28),\n",
    "    line_length=14,\n",
    "    line_pixel_value=np.pi / 2,\n",
    "    min_noise_value=0,\n",
    "    max_noise_value=np.pi / 4,\n",
    ")\n",
    "labels_np = np.array(labels)\n",
    "labels_np[np.where(labels_np == \"horizontal\")] = 0\n",
    "labels_np[np.where(labels_np == \"vertical\")] = 1\n",
    "labels = torch.from_numpy(labels_np.astype(np.int64))\n",
    "\n",
    "images = torch.from_numpy(images.astype(np.float32)).reshape(-1, 1, 28, 28)\n",
    "print((labels==0).sum())\n",
    "print((labels==1).sum())"
   ]
  },
  {
   "cell_type": "code",
   "execution_count": 12,
   "id": "3cce3bfb-bee6-4532-aad2-972aea482fd1",
   "metadata": {},
   "outputs": [
    {
     "data": {
      "text/plain": [
       "tensor([[0.5017, 0.4983],\n",
       "        [0.5053, 0.4947],\n",
       "        [0.5005, 0.4995],\n",
       "        [0.5048, 0.4952],\n",
       "        [0.5079, 0.4921]], grad_fn=<SoftmaxBackward0>)"
      ]
     },
     "execution_count": 12,
     "metadata": {},
     "output_type": "execute_result"
    }
   ],
   "source": [
    "hqnn_parallel(images[:5])"
   ]
  },
  {
   "cell_type": "code",
   "execution_count": 13,
   "id": "4b54313e-bd27-45ba-ba24-cb0e675303b7",
   "metadata": {},
   "outputs": [
    {
     "data": {
      "image/png": "[encoded data removed]",
      "text/plain": [
       "<Figure size 1000x600 with 4 Axes>"
      ]
     },
     "metadata": {},
     "output_type": "display_data"
    }
   ],
   "source": [
    "fig, ax = plt.subplots(2, 2, figsize=(10, 6), subplot_kw={\"xticks\": [], \"yticks\": []})\n",
    "max_data = 4 if len(images) >= 4 else len(images)\n",
    "for i in range(max_data):\n",
    "    ax[i // 2, i % 2].imshow(\n",
    "        images[i].reshape(28, 28),  # Change back to 2 by 4\n",
    "        aspect=\"equal\",\n",
    "    )\n",
    "plt.subplots_adjust(wspace=0.1, hspace=0.025)"
   ]
  },
  {
   "cell_type": "code",
   "execution_count": 14,
   "id": "7bd89b3c-67f1-41d9-93ff-0917c8d04950",
   "metadata": {},
   "outputs": [
    {
     "data": {
      "text/plain": [
       "100"
      ]
     },
     "execution_count": 14,
     "metadata": {},
     "output_type": "execute_result"
    }
   ],
   "source": [
    "hor_ver_dataset = PlainDataset(images, labels)\n",
    "dataloader = torch.utils.data.DataLoader(hor_ver_dataset, batch_size=1, shuffle=True)\n",
    "len(dataloader)"
   ]
  },
  {
   "cell_type": "code",
   "execution_count": 15,
   "id": "23055d7c-87a3-453e-bb80-9e0c6df1ad76",
   "metadata": {},
   "outputs": [
    {
     "data": {
      "text/plain": [
       "tensor(0.4000)"
      ]
     },
     "execution_count": 15,
     "metadata": {},
     "output_type": "execute_result"
    }
   ],
   "source": [
    "(hqnn_parallel.classify(images) == labels).sum() / len(images)"
   ]
  },
  {
   "cell_type": "code",
   "execution_count": 16,
   "id": "9ab5c92f-c9ee-4d58-8910-2b39d48c2821",
   "metadata": {},
   "outputs": [
    {
     "name": "stdout",
     "output_type": "stream",
     "text": [
      "1.8888888888888888\n"
     ]
    },
    {
     "data": {
      "application/vnd.jupyter.widget-view+json": {
       "model_id": "cd35fcdb77184b05976c884bac413688",
       "version_major": 2,
       "version_minor": 0
      },
      "text/plain": [
       "  0%|          | 0/100 [00:00<?, ?it/s]"
      ]
     },
     "metadata": {},
     "output_type": "display_data"
    },
    {
     "data": {
      "application/vnd.jupyter.widget-view+json": {
       "model_id": "bf38ae7d5e57448d8b2c76a0011f4a28",
       "version_major": 2,
       "version_minor": 0
      },
      "text/plain": [
       "  0%|          | 0/4 [00:00<?, ?it/s]"
      ]
     },
     "metadata": {},
     "output_type": "display_data"
    },
    {
     "data": {
      "application/vnd.jupyter.widget-view+json": {
       "model_id": "430bbea186a64161a1957d611f7ca1b1",
       "version_major": 2,
       "version_minor": 0
      },
      "text/plain": [
       "  0%|          | 0/4 [00:00<?, ?it/s]"
      ]
     },
     "metadata": {},
     "output_type": "display_data"
    },
    {
     "data": {
      "application/vnd.jupyter.widget-view+json": {
       "model_id": "d1a34ab4c31240bb86ce59a9cf794d1c",
       "version_major": 2,
       "version_minor": 0
      },
      "text/plain": [
       "  0%|          | 0/4 [00:00<?, ?it/s]"
      ]
     },
     "metadata": {},
     "output_type": "display_data"
    },
    {
     "data": {
      "application/vnd.jupyter.widget-view+json": {
       "model_id": "ad5ee61e3cf14e4b9904377a417bae92",
       "version_major": 2,
       "version_minor": 0
      },
      "text/plain": [
       "  0%|          | 0/4 [00:00<?, ?it/s]"
      ]
     },
     "metadata": {},
     "output_type": "display_data"
    },
    {
     "data": {
      "application/vnd.jupyter.widget-view+json": {
       "model_id": "b57543d00ac3445bb66eba7d22b9ecb4",
       "version_major": 2,
       "version_minor": 0
      },
      "text/plain": [
       "  0%|          | 0/4 [00:00<?, ?it/s]"
      ]
     },
     "metadata": {},
     "output_type": "display_data"
    },
    {
     "data": {
      "application/vnd.jupyter.widget-view+json": {
       "model_id": "11bf901cd7d94ec791dffbb642af27b8",
       "version_major": 2,
       "version_minor": 0
      },
      "text/plain": [
       "  0%|          | 0/4 [00:00<?, ?it/s]"
      ]
     },
     "metadata": {},
     "output_type": "display_data"
    },
    {
     "data": {
      "application/vnd.jupyter.widget-view+json": {
       "model_id": "c76bc02aa5bd46d0a91f361e40045cb9",
       "version_major": 2,
       "version_minor": 0
      },
      "text/plain": [
       "  0%|          | 0/4 [00:00<?, ?it/s]"
      ]
     },
     "metadata": {},
     "output_type": "display_data"
    },
    {
     "data": {
      "application/vnd.jupyter.widget-view+json": {
       "model_id": "e33b517f754447f59fca5c1bc7c502ac",
       "version_major": 2,
       "version_minor": 0
      },
      "text/plain": [
       "  0%|          | 0/4 [00:00<?, ?it/s]"
      ]
     },
     "metadata": {},
     "output_type": "display_data"
    },
    {
     "data": {
      "application/vnd.jupyter.widget-view+json": {
       "model_id": "6871cfcbbdda4e20a1150dce8f193e03",
       "version_major": 2,
       "version_minor": 0
      },
      "text/plain": [
       "  0%|          | 0/4 [00:00<?, ?it/s]"
      ]
     },
     "metadata": {},
     "output_type": "display_data"
    },
    {
     "data": {
      "application/vnd.jupyter.widget-view+json": {
       "model_id": "01b1da4749bc450ebb32fd522db6f017",
       "version_major": 2,
       "version_minor": 0
      },
      "text/plain": [
       "  0%|          | 0/4 [00:00<?, ?it/s]"
      ]
     },
     "metadata": {},
     "output_type": "display_data"
    },
    {
     "data": {
      "application/vnd.jupyter.widget-view+json": {
       "model_id": "80a595371ce3406cafeb2df8897e9720",
       "version_major": 2,
       "version_minor": 0
      },
      "text/plain": [
       "  0%|          | 0/4 [00:00<?, ?it/s]"
      ]
     },
     "metadata": {},
     "output_type": "display_data"
    },
    {
     "data": {
      "application/vnd.jupyter.widget-view+json": {
       "model_id": "c77f66d93fc44d9ab61260526b5818f9",
       "version_major": 2,
       "version_minor": 0
      },
      "text/plain": [
       "  0%|          | 0/4 [00:00<?, ?it/s]"
      ]
     },
     "metadata": {},
     "output_type": "display_data"
    },
    {
     "data": {
      "application/vnd.jupyter.widget-view+json": {
       "model_id": "95ef15bbbc7343c39491aa68a5698da8",
       "version_major": 2,
       "version_minor": 0
      },
      "text/plain": [
       "  0%|          | 0/4 [00:00<?, ?it/s]"
      ]
     },
     "metadata": {},
     "output_type": "display_data"
    },
    {
     "data": {
      "application/vnd.jupyter.widget-view+json": {
       "model_id": "6cc5210b1fa947f590dab1a8a3cf46f4",
       "version_major": 2,
       "version_minor": 0
      },
      "text/plain": [
       "  0%|          | 0/4 [00:00<?, ?it/s]"
      ]
     },
     "metadata": {},
     "output_type": "display_data"
    },
    {
     "data": {
      "application/vnd.jupyter.widget-view+json": {
       "model_id": "6497bf89320a47c28e0bfb5924c18926",
       "version_major": 2,
       "version_minor": 0
      },
      "text/plain": [
       "  0%|          | 0/4 [00:00<?, ?it/s]"
      ]
     },
     "metadata": {},
     "output_type": "display_data"
    },
    {
     "data": {
      "application/vnd.jupyter.widget-view+json": {
       "model_id": "98828f8e7bfe4217b925b8487f929ad1",
       "version_major": 2,
       "version_minor": 0
      },
      "text/plain": [
       "  0%|          | 0/4 [00:00<?, ?it/s]"
      ]
     },
     "metadata": {},
     "output_type": "display_data"
    },
    {
     "data": {
      "application/vnd.jupyter.widget-view+json": {
       "model_id": "44801ebbc3c747c887f17a8696258ee2",
       "version_major": 2,
       "version_minor": 0
      },
      "text/plain": [
       "  0%|          | 0/4 [00:00<?, ?it/s]"
      ]
     },
     "metadata": {},
     "output_type": "display_data"
    },
    {
     "data": {
      "application/vnd.jupyter.widget-view+json": {
       "model_id": "3257df09b8464ca983a9897890d4bd64",
       "version_major": 2,
       "version_minor": 0
      },
      "text/plain": [
       "  0%|          | 0/4 [00:00<?, ?it/s]"
      ]
     },
     "metadata": {},
     "output_type": "display_data"
    },
    {
     "data": {
      "application/vnd.jupyter.widget-view+json": {
       "model_id": "b8bedfeff5264377b5384c5b9d9a8a38",
       "version_major": 2,
       "version_minor": 0
      },
      "text/plain": [
       "  0%|          | 0/4 [00:00<?, ?it/s]"
      ]
     },
     "metadata": {},
     "output_type": "display_data"
    },
    {
     "data": {
      "application/vnd.jupyter.widget-view+json": {
       "model_id": "94a3ab03f3824a36801e89774096a9d1",
       "version_major": 2,
       "version_minor": 0
      },
      "text/plain": [
       "  0%|          | 0/4 [00:00<?, ?it/s]"
      ]
     },
     "metadata": {},
     "output_type": "display_data"
    },
    {
     "data": {
      "application/vnd.jupyter.widget-view+json": {
       "model_id": "6c95c632513d4f5eabee8a844cf5f622",
       "version_major": 2,
       "version_minor": 0
      },
      "text/plain": [
       "  0%|          | 0/4 [00:00<?, ?it/s]"
      ]
     },
     "metadata": {},
     "output_type": "display_data"
    },
    {
     "data": {
      "application/vnd.jupyter.widget-view+json": {
       "model_id": "8ab88e0429c64679bdd4cf328fb71fea",
       "version_major": 2,
       "version_minor": 0
      },
      "text/plain": [
       "  0%|          | 0/4 [00:00<?, ?it/s]"
      ]
     },
     "metadata": {},
     "output_type": "display_data"
    },
    {
     "data": {
      "application/vnd.jupyter.widget-view+json": {
       "model_id": "0204ea45ca81454d92631af2435bdac2",
       "version_major": 2,
       "version_minor": 0
      },
      "text/plain": [
       "  0%|          | 0/4 [00:00<?, ?it/s]"
      ]
     },
     "metadata": {},
     "output_type": "display_data"
    },
    {
     "data": {
      "application/vnd.jupyter.widget-view+json": {
       "model_id": "f17eebc066e94333be5c9478e86b326a",
       "version_major": 2,
       "version_minor": 0
      },
      "text/plain": [
       "  0%|          | 0/4 [00:00<?, ?it/s]"
      ]
     },
     "metadata": {},
     "output_type": "display_data"
    },
    {
     "data": {
      "application/vnd.jupyter.widget-view+json": {
       "model_id": "3feb4785f5f34cd2b4ffefe3e18726c4",
       "version_major": 2,
       "version_minor": 0
      },
      "text/plain": [
       "  0%|          | 0/4 [00:00<?, ?it/s]"
      ]
     },
     "metadata": {},
     "output_type": "display_data"
    },
    {
     "data": {
      "application/vnd.jupyter.widget-view+json": {
       "model_id": "06cb6324af994fa6a4189a68efde14d6",
       "version_major": 2,
       "version_minor": 0
      },
      "text/plain": [
       "  0%|          | 0/4 [00:00<?, ?it/s]"
      ]
     },
     "metadata": {},
     "output_type": "display_data"
    },
    {
     "data": {
      "application/vnd.jupyter.widget-view+json": {
       "model_id": "23cd9867b906458c9c6afb8313ec53d0",
       "version_major": 2,
       "version_minor": 0
      },
      "text/plain": [
       "  0%|          | 0/4 [00:00<?, ?it/s]"
      ]
     },
     "metadata": {},
     "output_type": "display_data"
    },
    {
     "data": {
      "application/vnd.jupyter.widget-view+json": {
       "model_id": "ed2a74585e9c489cb18e28c13bd835cc",
       "version_major": 2,
       "version_minor": 0
      },
      "text/plain": [
       "  0%|          | 0/4 [00:00<?, ?it/s]"
      ]
     },
     "metadata": {},
     "output_type": "display_data"
    },
    {
     "data": {
      "application/vnd.jupyter.widget-view+json": {
       "model_id": "e5ee76f9bc2d43639ebfc530cad1977d",
       "version_major": 2,
       "version_minor": 0
      },
      "text/plain": [
       "  0%|          | 0/4 [00:00<?, ?it/s]"
      ]
     },
     "metadata": {},
     "output_type": "display_data"
    },
    {
     "data": {
      "application/vnd.jupyter.widget-view+json": {
       "model_id": "43d4474029d64f5fa8b96d8c30b3d6ee",
       "version_major": 2,
       "version_minor": 0
      },
      "text/plain": [
       "  0%|          | 0/4 [00:00<?, ?it/s]"
      ]
     },
     "metadata": {},
     "output_type": "display_data"
    },
    {
     "data": {
      "application/vnd.jupyter.widget-view+json": {
       "model_id": "c681da248d6d4340a53b42e2608fc1a3",
       "version_major": 2,
       "version_minor": 0
      },
      "text/plain": [
       "  0%|          | 0/4 [00:00<?, ?it/s]"
      ]
     },
     "metadata": {},
     "output_type": "display_data"
    },
    {
     "data": {
      "application/vnd.jupyter.widget-view+json": {
       "model_id": "9ce8950bc59542698748fb64c3c461c2",
       "version_major": 2,
       "version_minor": 0
      },
      "text/plain": [
       "  0%|          | 0/4 [00:00<?, ?it/s]"
      ]
     },
     "metadata": {},
     "output_type": "display_data"
    },
    {
     "data": {
      "application/vnd.jupyter.widget-view+json": {
       "model_id": "44d66a1aebfb489e9d061567b7036831",
       "version_major": 2,
       "version_minor": 0
      },
      "text/plain": [
       "  0%|          | 0/4 [00:00<?, ?it/s]"
      ]
     },
     "metadata": {},
     "output_type": "display_data"
    },
    {
     "data": {
      "application/vnd.jupyter.widget-view+json": {
       "model_id": "6aa88318214b49beb8531a31438be9f9",
       "version_major": 2,
       "version_minor": 0
      },
      "text/plain": [
       "  0%|          | 0/4 [00:00<?, ?it/s]"
      ]
     },
     "metadata": {},
     "output_type": "display_data"
    },
    {
     "data": {
      "application/vnd.jupyter.widget-view+json": {
       "model_id": "0f971834bea44fbf903a1caf421dc5a2",
       "version_major": 2,
       "version_minor": 0
      },
      "text/plain": [
       "  0%|          | 0/4 [00:00<?, ?it/s]"
      ]
     },
     "metadata": {},
     "output_type": "display_data"
    },
    {
     "data": {
      "application/vnd.jupyter.widget-view+json": {
       "model_id": "ea3916711c5f47489fc0330495ba8d93",
       "version_major": 2,
       "version_minor": 0
      },
      "text/plain": [
       "  0%|          | 0/4 [00:00<?, ?it/s]"
      ]
     },
     "metadata": {},
     "output_type": "display_data"
    },
    {
     "data": {
      "application/vnd.jupyter.widget-view+json": {
       "model_id": "f0106150cbd44292b38f231cc69d3f3d",
       "version_major": 2,
       "version_minor": 0
      },
      "text/plain": [
       "  0%|          | 0/4 [00:00<?, ?it/s]"
      ]
     },
     "metadata": {},
     "output_type": "display_data"
    },
    {
     "data": {
      "application/vnd.jupyter.widget-view+json": {
       "model_id": "7be364625e3e4ac0b2d12d64cdd96075",
       "version_major": 2,
       "version_minor": 0
      },
      "text/plain": [
       "  0%|          | 0/4 [00:00<?, ?it/s]"
      ]
     },
     "metadata": {},
     "output_type": "display_data"
    },
    {
     "data": {
      "application/vnd.jupyter.widget-view+json": {
       "model_id": "9e76839f48fe429e9e000d60823e6e5e",
       "version_major": 2,
       "version_minor": 0
      },
      "text/plain": [
       "  0%|          | 0/4 [00:00<?, ?it/s]"
      ]
     },
     "metadata": {},
     "output_type": "display_data"
    },
    {
     "data": {
      "application/vnd.jupyter.widget-view+json": {
       "model_id": "b67ab4422d9f4b7e80a9a27d6ef03453",
       "version_major": 2,
       "version_minor": 0
      },
      "text/plain": [
       "  0%|          | 0/4 [00:00<?, ?it/s]"
      ]
     },
     "metadata": {},
     "output_type": "display_data"
    },
    {
     "data": {
      "application/vnd.jupyter.widget-view+json": {
       "model_id": "423315cdd0af47acb01860353423e8b9",
       "version_major": 2,
       "version_minor": 0
      },
      "text/plain": [
       "  0%|          | 0/4 [00:00<?, ?it/s]"
      ]
     },
     "metadata": {},
     "output_type": "display_data"
    },
    {
     "data": {
      "application/vnd.jupyter.widget-view+json": {
       "model_id": "93af4c8dd71c41a1a96f8af22644880f",
       "version_major": 2,
       "version_minor": 0
      },
      "text/plain": [
       "  0%|          | 0/4 [00:00<?, ?it/s]"
      ]
     },
     "metadata": {},
     "output_type": "display_data"
    },
    {
     "data": {
      "application/vnd.jupyter.widget-view+json": {
       "model_id": "8057a3b0e46441309331f4d9d8b56c6d",
       "version_major": 2,
       "version_minor": 0
      },
      "text/plain": [
       "  0%|          | 0/4 [00:00<?, ?it/s]"
      ]
     },
     "metadata": {},
     "output_type": "display_data"
    },
    {
     "data": {
      "application/vnd.jupyter.widget-view+json": {
       "model_id": "aace3bfc7b534c8ab2d31168729b2875",
       "version_major": 2,
       "version_minor": 0
      },
      "text/plain": [
       "  0%|          | 0/4 [00:00<?, ?it/s]"
      ]
     },
     "metadata": {},
     "output_type": "display_data"
    },
    {
     "data": {
      "application/vnd.jupyter.widget-view+json": {
       "model_id": "80e27831074e45598aecee54b1230e81",
       "version_major": 2,
       "version_minor": 0
      },
      "text/plain": [
       "  0%|          | 0/4 [00:00<?, ?it/s]"
      ]
     },
     "metadata": {},
     "output_type": "display_data"
    },
    {
     "data": {
      "application/vnd.jupyter.widget-view+json": {
       "model_id": "293921da213c47128707e510f3824e71",
       "version_major": 2,
       "version_minor": 0
      },
      "text/plain": [
       "  0%|          | 0/4 [00:00<?, ?it/s]"
      ]
     },
     "metadata": {},
     "output_type": "display_data"
    },
    {
     "data": {
      "application/vnd.jupyter.widget-view+json": {
       "model_id": "db3469d7cb56432584e47c074299153a",
       "version_major": 2,
       "version_minor": 0
      },
      "text/plain": [
       "  0%|          | 0/4 [00:00<?, ?it/s]"
      ]
     },
     "metadata": {},
     "output_type": "display_data"
    },
    {
     "data": {
      "application/vnd.jupyter.widget-view+json": {
       "model_id": "6565252f275349649531e7b2dc5bd977",
       "version_major": 2,
       "version_minor": 0
      },
      "text/plain": [
       "  0%|          | 0/4 [00:00<?, ?it/s]"
      ]
     },
     "metadata": {},
     "output_type": "display_data"
    },
    {
     "data": {
      "application/vnd.jupyter.widget-view+json": {
       "model_id": "7843b9dcd40b43a29020a61cb44dbbf1",
       "version_major": 2,
       "version_minor": 0
      },
      "text/plain": [
       "  0%|          | 0/4 [00:00<?, ?it/s]"
      ]
     },
     "metadata": {},
     "output_type": "display_data"
    },
    {
     "data": {
      "application/vnd.jupyter.widget-view+json": {
       "model_id": "e1bed6c1a1ae44c2a8179ba28399a61f",
       "version_major": 2,
       "version_minor": 0
      },
      "text/plain": [
       "  0%|          | 0/4 [00:00<?, ?it/s]"
      ]
     },
     "metadata": {},
     "output_type": "display_data"
    },
    {
     "data": {
      "application/vnd.jupyter.widget-view+json": {
       "model_id": "696235e5873044799d50bee4efbee906",
       "version_major": 2,
       "version_minor": 0
      },
      "text/plain": [
       "  0%|          | 0/4 [00:00<?, ?it/s]"
      ]
     },
     "metadata": {},
     "output_type": "display_data"
    },
    {
     "data": {
      "application/vnd.jupyter.widget-view+json": {
       "model_id": "ffce8addc7314f16912a74e22ded2d13",
       "version_major": 2,
       "version_minor": 0
      },
      "text/plain": [
       "  0%|          | 0/4 [00:00<?, ?it/s]"
      ]
     },
     "metadata": {},
     "output_type": "display_data"
    },
    {
     "data": {
      "application/vnd.jupyter.widget-view+json": {
       "model_id": "6e1e901c99a14c3b89fb83e83316e681",
       "version_major": 2,
       "version_minor": 0
      },
      "text/plain": [
       "  0%|          | 0/4 [00:00<?, ?it/s]"
      ]
     },
     "metadata": {},
     "output_type": "display_data"
    },
    {
     "data": {
      "application/vnd.jupyter.widget-view+json": {
       "model_id": "abc0d4f7e7d34ec1818b00fd852739a6",
       "version_major": 2,
       "version_minor": 0
      },
      "text/plain": [
       "  0%|          | 0/4 [00:00<?, ?it/s]"
      ]
     },
     "metadata": {},
     "output_type": "display_data"
    },
    {
     "data": {
      "application/vnd.jupyter.widget-view+json": {
       "model_id": "746cfba92190424ba584acd793b43476",
       "version_major": 2,
       "version_minor": 0
      },
      "text/plain": [
       "  0%|          | 0/4 [00:00<?, ?it/s]"
      ]
     },
     "metadata": {},
     "output_type": "display_data"
    },
    {
     "data": {
      "application/vnd.jupyter.widget-view+json": {
       "model_id": "04920e69f3c64991bff08490e9c99f64",
       "version_major": 2,
       "version_minor": 0
      },
      "text/plain": [
       "  0%|          | 0/4 [00:00<?, ?it/s]"
      ]
     },
     "metadata": {},
     "output_type": "display_data"
    },
    {
     "data": {
      "application/vnd.jupyter.widget-view+json": {
       "model_id": "13d077f7af524c668b0207203466563b",
       "version_major": 2,
       "version_minor": 0
      },
      "text/plain": [
       "  0%|          | 0/4 [00:00<?, ?it/s]"
      ]
     },
     "metadata": {},
     "output_type": "display_data"
    },
    {
     "data": {
      "application/vnd.jupyter.widget-view+json": {
       "model_id": "87f858aea8824a08886e1cad7ce5327a",
       "version_major": 2,
       "version_minor": 0
      },
      "text/plain": [
       "  0%|          | 0/4 [00:00<?, ?it/s]"
      ]
     },
     "metadata": {},
     "output_type": "display_data"
    },
    {
     "data": {
      "application/vnd.jupyter.widget-view+json": {
       "model_id": "9e8a645b9f32456db06e7990d32a6796",
       "version_major": 2,
       "version_minor": 0
      },
      "text/plain": [
       "  0%|          | 0/4 [00:00<?, ?it/s]"
      ]
     },
     "metadata": {},
     "output_type": "display_data"
    },
    {
     "data": {
      "application/vnd.jupyter.widget-view+json": {
       "model_id": "d1256eb5c08643ae852633a7b5e93248",
       "version_major": 2,
       "version_minor": 0
      },
      "text/plain": [
       "  0%|          | 0/4 [00:00<?, ?it/s]"
      ]
     },
     "metadata": {},
     "output_type": "display_data"
    },
    {
     "data": {
      "application/vnd.jupyter.widget-view+json": {
       "model_id": "910a77a19c284e5d80704bf6d634eed9",
       "version_major": 2,
       "version_minor": 0
      },
      "text/plain": [
       "  0%|          | 0/4 [00:00<?, ?it/s]"
      ]
     },
     "metadata": {},
     "output_type": "display_data"
    },
    {
     "data": {
      "application/vnd.jupyter.widget-view+json": {
       "model_id": "e2001905077a45d194543da817f872a7",
       "version_major": 2,
       "version_minor": 0
      },
      "text/plain": [
       "  0%|          | 0/4 [00:00<?, ?it/s]"
      ]
     },
     "metadata": {},
     "output_type": "display_data"
    },
    {
     "data": {
      "application/vnd.jupyter.widget-view+json": {
       "model_id": "94671481b6cf4fe5b87a42f31344b40b",
       "version_major": 2,
       "version_minor": 0
      },
      "text/plain": [
       "  0%|          | 0/4 [00:00<?, ?it/s]"
      ]
     },
     "metadata": {},
     "output_type": "display_data"
    },
    {
     "data": {
      "application/vnd.jupyter.widget-view+json": {
       "model_id": "bee116f97ac74ae283a55304caf55790",
       "version_major": 2,
       "version_minor": 0
      },
      "text/plain": [
       "  0%|          | 0/4 [00:00<?, ?it/s]"
      ]
     },
     "metadata": {},
     "output_type": "display_data"
    },
    {
     "data": {
      "application/vnd.jupyter.widget-view+json": {
       "model_id": "31288bd2c8f14bd680955edd02a387ec",
       "version_major": 2,
       "version_minor": 0
      },
      "text/plain": [
       "  0%|          | 0/4 [00:00<?, ?it/s]"
      ]
     },
     "metadata": {},
     "output_type": "display_data"
    },
    {
     "data": {
      "application/vnd.jupyter.widget-view+json": {
       "model_id": "3945ef98e442461493964301d9ad2ee0",
       "version_major": 2,
       "version_minor": 0
      },
      "text/plain": [
       "  0%|          | 0/4 [00:00<?, ?it/s]"
      ]
     },
     "metadata": {},
     "output_type": "display_data"
    },
    {
     "data": {
      "application/vnd.jupyter.widget-view+json": {
       "model_id": "92b2e9cb34e94fffaafd898e631eab3c",
       "version_major": 2,
       "version_minor": 0
      },
      "text/plain": [
       "  0%|          | 0/4 [00:00<?, ?it/s]"
      ]
     },
     "metadata": {},
     "output_type": "display_data"
    },
    {
     "data": {
      "application/vnd.jupyter.widget-view+json": {
       "model_id": "5233a3f5df354f4a9494aa86200b05f6",
       "version_major": 2,
       "version_minor": 0
      },
      "text/plain": [
       "  0%|          | 0/4 [00:00<?, ?it/s]"
      ]
     },
     "metadata": {},
     "output_type": "display_data"
    },
    {
     "data": {
      "application/vnd.jupyter.widget-view+json": {
       "model_id": "6f758d7076b94066b20d162848e420cf",
       "version_major": 2,
       "version_minor": 0
      },
      "text/plain": [
       "  0%|          | 0/4 [00:00<?, ?it/s]"
      ]
     },
     "metadata": {},
     "output_type": "display_data"
    },
    {
     "data": {
      "application/vnd.jupyter.widget-view+json": {
       "model_id": "dfc71d28dd744e0faf31bf5d8e7ad728",
       "version_major": 2,
       "version_minor": 0
      },
      "text/plain": [
       "  0%|          | 0/4 [00:00<?, ?it/s]"
      ]
     },
     "metadata": {},
     "output_type": "display_data"
    },
    {
     "data": {
      "application/vnd.jupyter.widget-view+json": {
       "model_id": "9210d360cf8c486b9f9762164d74efbc",
       "version_major": 2,
       "version_minor": 0
      },
      "text/plain": [
       "  0%|          | 0/4 [00:00<?, ?it/s]"
      ]
     },
     "metadata": {},
     "output_type": "display_data"
    },
    {
     "data": {
      "application/vnd.jupyter.widget-view+json": {
       "model_id": "36bdb181311d4b21b5e4755bb00efae7",
       "version_major": 2,
       "version_minor": 0
      },
      "text/plain": [
       "  0%|          | 0/4 [00:00<?, ?it/s]"
      ]
     },
     "metadata": {},
     "output_type": "display_data"
    },
    {
     "data": {
      "application/vnd.jupyter.widget-view+json": {
       "model_id": "c4f4820028be488180ae0863bb7f1c35",
       "version_major": 2,
       "version_minor": 0
      },
      "text/plain": [
       "  0%|          | 0/4 [00:00<?, ?it/s]"
      ]
     },
     "metadata": {},
     "output_type": "display_data"
    },
    {
     "data": {
      "application/vnd.jupyter.widget-view+json": {
       "model_id": "a33b27d3d4a44b889118cf13ce3df416",
       "version_major": 2,
       "version_minor": 0
      },
      "text/plain": [
       "  0%|          | 0/4 [00:00<?, ?it/s]"
      ]
     },
     "metadata": {},
     "output_type": "display_data"
    },
    {
     "data": {
      "application/vnd.jupyter.widget-view+json": {
       "model_id": "f00c1d3af51a49b4bea64c89e611fee4",
       "version_major": 2,
       "version_minor": 0
      },
      "text/plain": [
       "  0%|          | 0/4 [00:00<?, ?it/s]"
      ]
     },
     "metadata": {},
     "output_type": "display_data"
    },
    {
     "data": {
      "application/vnd.jupyter.widget-view+json": {
       "model_id": "2499af1149464b28a281db02e02aa682",
       "version_major": 2,
       "version_minor": 0
      },
      "text/plain": [
       "  0%|          | 0/4 [00:00<?, ?it/s]"
      ]
     },
     "metadata": {},
     "output_type": "display_data"
    },
    {
     "data": {
      "application/vnd.jupyter.widget-view+json": {
       "model_id": "a58d64b23e1040acaa9a97f56570ae88",
       "version_major": 2,
       "version_minor": 0
      },
      "text/plain": [
       "  0%|          | 0/4 [00:00<?, ?it/s]"
      ]
     },
     "metadata": {},
     "output_type": "display_data"
    },
    {
     "data": {
      "application/vnd.jupyter.widget-view+json": {
       "model_id": "dd552ac9ea124ae1b119a9c7a2d80e0f",
       "version_major": 2,
       "version_minor": 0
      },
      "text/plain": [
       "  0%|          | 0/4 [00:00<?, ?it/s]"
      ]
     },
     "metadata": {},
     "output_type": "display_data"
    },
    {
     "data": {
      "application/vnd.jupyter.widget-view+json": {
       "model_id": "98687d9003c24d82ba75123400701030",
       "version_major": 2,
       "version_minor": 0
      },
      "text/plain": [
       "  0%|          | 0/4 [00:00<?, ?it/s]"
      ]
     },
     "metadata": {},
     "output_type": "display_data"
    },
    {
     "data": {
      "application/vnd.jupyter.widget-view+json": {
       "model_id": "ec96a6a041f1489f8a3368518081f073",
       "version_major": 2,
       "version_minor": 0
      },
      "text/plain": [
       "  0%|          | 0/4 [00:00<?, ?it/s]"
      ]
     },
     "metadata": {},
     "output_type": "display_data"
    },
    {
     "data": {
      "application/vnd.jupyter.widget-view+json": {
       "model_id": "4e0dea21d96349bab7505879feee83a8",
       "version_major": 2,
       "version_minor": 0
      },
      "text/plain": [
       "  0%|          | 0/4 [00:00<?, ?it/s]"
      ]
     },
     "metadata": {},
     "output_type": "display_data"
    },
    {
     "data": {
      "application/vnd.jupyter.widget-view+json": {
       "model_id": "8318a54dcfbc42db8c36bab5cd7c29d8",
       "version_major": 2,
       "version_minor": 0
      },
      "text/plain": [
       "  0%|          | 0/4 [00:00<?, ?it/s]"
      ]
     },
     "metadata": {},
     "output_type": "display_data"
    },
    {
     "data": {
      "application/vnd.jupyter.widget-view+json": {
       "model_id": "1ca2fcc33018487e8fd1b7bcc5f1e749",
       "version_major": 2,
       "version_minor": 0
      },
      "text/plain": [
       "  0%|          | 0/4 [00:00<?, ?it/s]"
      ]
     },
     "metadata": {},
     "output_type": "display_data"
    },
    {
     "data": {
      "application/vnd.jupyter.widget-view+json": {
       "model_id": "a76951fce6db4fb2829dfb3b3c3ea654",
       "version_major": 2,
       "version_minor": 0
      },
      "text/plain": [
       "  0%|          | 0/4 [00:00<?, ?it/s]"
      ]
     },
     "metadata": {},
     "output_type": "display_data"
    },
    {
     "data": {
      "application/vnd.jupyter.widget-view+json": {
       "model_id": "90a4032dc2f344269381bd425d761e3a",
       "version_major": 2,
       "version_minor": 0
      },
      "text/plain": [
       "  0%|          | 0/4 [00:00<?, ?it/s]"
      ]
     },
     "metadata": {},
     "output_type": "display_data"
    },
    {
     "data": {
      "application/vnd.jupyter.widget-view+json": {
       "model_id": "3ccb56c874994f58bd6b02ee0a2406be",
       "version_major": 2,
       "version_minor": 0
      },
      "text/plain": [
       "  0%|          | 0/4 [00:00<?, ?it/s]"
      ]
     },
     "metadata": {},
     "output_type": "display_data"
    },
    {
     "data": {
      "application/vnd.jupyter.widget-view+json": {
       "model_id": "1a2dbc77ce2c4352b8e86efb922f7110",
       "version_major": 2,
       "version_minor": 0
      },
      "text/plain": [
       "  0%|          | 0/4 [00:00<?, ?it/s]"
      ]
     },
     "metadata": {},
     "output_type": "display_data"
    },
    {
     "data": {
      "application/vnd.jupyter.widget-view+json": {
       "model_id": "5d57a7c1b3bb4742a34b9835b91ca12b",
       "version_major": 2,
       "version_minor": 0
      },
      "text/plain": [
       "  0%|          | 0/4 [00:00<?, ?it/s]"
      ]
     },
     "metadata": {},
     "output_type": "display_data"
    },
    {
     "data": {
      "application/vnd.jupyter.widget-view+json": {
       "model_id": "8120348a5ae94a5da271e2934789c55c",
       "version_major": 2,
       "version_minor": 0
      },
      "text/plain": [
       "  0%|          | 0/4 [00:00<?, ?it/s]"
      ]
     },
     "metadata": {},
     "output_type": "display_data"
    },
    {
     "data": {
      "application/vnd.jupyter.widget-view+json": {
       "model_id": "0cd18176d02249c5ad79a6e662487081",
       "version_major": 2,
       "version_minor": 0
      },
      "text/plain": [
       "  0%|          | 0/4 [00:00<?, ?it/s]"
      ]
     },
     "metadata": {},
     "output_type": "display_data"
    },
    {
     "data": {
      "application/vnd.jupyter.widget-view+json": {
       "model_id": "230305675d54431480b77eef1cc90ade",
       "version_major": 2,
       "version_minor": 0
      },
      "text/plain": [
       "  0%|          | 0/4 [00:00<?, ?it/s]"
      ]
     },
     "metadata": {},
     "output_type": "display_data"
    },
    {
     "data": {
      "application/vnd.jupyter.widget-view+json": {
       "model_id": "c5ddf48be771420595fb0e40047c24c2",
       "version_major": 2,
       "version_minor": 0
      },
      "text/plain": [
       "  0%|          | 0/4 [00:00<?, ?it/s]"
      ]
     },
     "metadata": {},
     "output_type": "display_data"
    },
    {
     "data": {
      "application/vnd.jupyter.widget-view+json": {
       "model_id": "cd59e48574f94bb4a3623a8b433f3ada",
       "version_major": 2,
       "version_minor": 0
      },
      "text/plain": [
       "  0%|          | 0/4 [00:00<?, ?it/s]"
      ]
     },
     "metadata": {},
     "output_type": "display_data"
    },
    {
     "data": {
      "application/vnd.jupyter.widget-view+json": {
       "model_id": "f53ef0f956c64b66b5d79cc51dd39aa9",
       "version_major": 2,
       "version_minor": 0
      },
      "text/plain": [
       "  0%|          | 0/4 [00:00<?, ?it/s]"
      ]
     },
     "metadata": {},
     "output_type": "display_data"
    },
    {
     "data": {
      "application/vnd.jupyter.widget-view+json": {
       "model_id": "8908d3e948754dde92189f28daef5cc4",
       "version_major": 2,
       "version_minor": 0
      },
      "text/plain": [
       "  0%|          | 0/4 [00:00<?, ?it/s]"
      ]
     },
     "metadata": {},
     "output_type": "display_data"
    },
    {
     "data": {
      "application/vnd.jupyter.widget-view+json": {
       "model_id": "dc27c95247ff405681434c892ecd99a7",
       "version_major": 2,
       "version_minor": 0
      },
      "text/plain": [
       "  0%|          | 0/4 [00:00<?, ?it/s]"
      ]
     },
     "metadata": {},
     "output_type": "display_data"
    },
    {
     "data": {
      "application/vnd.jupyter.widget-view+json": {
       "model_id": "512997e3dce44c379c29b211df97df53",
       "version_major": 2,
       "version_minor": 0
      },
      "text/plain": [
       "  0%|          | 0/4 [00:00<?, ?it/s]"
      ]
     },
     "metadata": {},
     "output_type": "display_data"
    },
    {
     "data": {
      "application/vnd.jupyter.widget-view+json": {
       "model_id": "7ab333618ffc4684ac516feceae54d6c",
       "version_major": 2,
       "version_minor": 0
      },
      "text/plain": [
       "  0%|          | 0/4 [00:00<?, ?it/s]"
      ]
     },
     "metadata": {},
     "output_type": "display_data"
    },
    {
     "data": {
      "application/vnd.jupyter.widget-view+json": {
       "model_id": "28d3f16f7c9c45e080ed27f0a2949def",
       "version_major": 2,
       "version_minor": 0
      },
      "text/plain": [
       "  0%|          | 0/4 [00:00<?, ?it/s]"
      ]
     },
     "metadata": {},
     "output_type": "display_data"
    },
    {
     "data": {
      "application/vnd.jupyter.widget-view+json": {
       "model_id": "e68961b52ec1422196e1ecbcd812a981",
       "version_major": 2,
       "version_minor": 0
      },
      "text/plain": [
       "  0%|          | 0/4 [00:00<?, ?it/s]"
      ]
     },
     "metadata": {},
     "output_type": "display_data"
    }
   ],
   "source": [
    "torch_trainer = TorchTrainer(model=hqnn_parallel, quantum_lr=0.1, classical_lr=0.1)\n",
    "\n",
    "epochs = 1\n",
    "print((17 * 4 * len(images) * epochs) / 3600)  # Estimated time (hour)\n",
    "\n",
    "torch_trainer.train_and_eval(dataloader, dataloader, epochs=epochs)"
   ]
  },
  {
   "cell_type": "code",
   "execution_count": 17,
   "id": "7895bba3-05f3-4d6d-8ea3-b809ff683dc1",
   "metadata": {},
   "outputs": [
    {
     "data": {
      "text/plain": [
       "tensor(0.5800)"
      ]
     },
     "execution_count": 17,
     "metadata": {},
     "output_type": "execute_result"
    }
   ],
   "source": [
    "(hqnn_parallel.classify(images) == labels).sum() / len(images)"
   ]
  },
  {
   "cell_type": "code",
   "execution_count": 18,
   "id": "ac17ea16-e6ca-4ff8-93a0-871494cd2f68",
   "metadata": {},
   "outputs": [
    {
     "data": {
      "text/plain": [
       "[0.6929089558124543]"
      ]
     },
     "execution_count": 18,
     "metadata": {},
     "output_type": "execute_result"
    }
   ],
   "source": [
    "torch_trainer.train_loss_history"
   ]
  },
  {
   "cell_type": "code",
   "execution_count": 19,
   "id": "10a098ea-fb3f-41ad-94ba-af77653a5c67",
   "metadata": {},
   "outputs": [],
   "source": [
    "class CNNWithoutDense(torch.nn.Module):\n",
    "    \"\"\"\n",
    "    CNN without a dense layer class for Mnist, of which input shape is (28, 28) and the number of classes is 10.\n",
    "    \"\"\"\n",
    "    def __init__(self, num_classes: int, seed: int = 901):\n",
    "        torch.manual_seed(seed)\n",
    "        super(CNNWithoutDense, self).__init__()\n",
    "        self.conv1 = torch.nn.Conv2d(1, 16, kernel_size=5, padding=2, stride=1, dilation=1)  # 16x28x28\n",
    "        self.max_pool1 = torch.nn.MaxPool2d(kernel_size=2, stride=2, padding=0, dilation=1)  # 16x14x14\n",
    "        self.conv2 = torch.nn.Conv2d(16, 32, kernel_size=5, padding=2, stride=1, dilation=1)  # 32x14x14\n",
    "        self.max_pool2 = torch.nn.MaxPool2d(kernel_size=2, stride=2, padding=0, dilation=1)  # 32x7x7\n",
    "        \n",
    "        self.flatten = torch.nn.Flatten()  # 1568 = 32*7*7\n",
    "\n",
    "        self.output = torch.nn.Linear(1568, num_classes)\n",
    "\n",
    "        self.relu = torch.nn.functional.relu\n",
    "        self.softmax = torch.nn.Softmax(dim=1)\n",
    "\n",
    "    def forward(self, x):\n",
    "        x = self.relu(self.conv1(x))\n",
    "        x = self.max_pool1(x)\n",
    "        x = self.relu(self.conv2(x))\n",
    "        x = self.max_pool2(x)\n",
    "        x = self.flatten(x)\n",
    "        probabilities = self.softmax(self.output(x))\n",
    "        return probabilities\n",
    "\n",
    "    def classify(self, x: torch.Tensor) -> torch.Tensor:\n",
    "        probabilities = self.forward(x)\n",
    "        return torch.argmax(probabilities, dim=1)"
   ]
  },
  {
   "cell_type": "code",
   "execution_count": 20,
   "id": "5d736e8c-98f3-4367-a251-27700802462c",
   "metadata": {},
   "outputs": [
    {
     "data": {
      "text/plain": [
       "CNNWithoutDense(\n",
       "  (conv1): Conv2d(1, 16, kernel_size=(5, 5), stride=(1, 1), padding=(2, 2))\n",
       "  (max_pool1): MaxPool2d(kernel_size=2, stride=2, padding=0, dilation=1, ceil_mode=False)\n",
       "  (conv2): Conv2d(16, 32, kernel_size=(5, 5), stride=(1, 1), padding=(2, 2))\n",
       "  (max_pool2): MaxPool2d(kernel_size=2, stride=2, padding=0, dilation=1, ceil_mode=False)\n",
       "  (flatten): Flatten(start_dim=1, end_dim=-1)\n",
       "  (output): Linear(in_features=1568, out_features=2, bias=True)\n",
       "  (softmax): Softmax(dim=1)\n",
       ")"
      ]
     },
     "execution_count": 20,
     "metadata": {},
     "output_type": "execute_result"
    }
   ],
   "source": [
    "cnn_without_dense = CNNWithoutDense(num_classes=2)\n",
    "cnn_without_dense"
   ]
  },
  {
   "cell_type": "code",
   "execution_count": 21,
   "id": "8cd49adb-ed1a-4eee-a9e7-e3577b9754c7",
   "metadata": {},
   "outputs": [
    {
     "data": {
      "text/plain": [
       "tensor(0.5100)"
      ]
     },
     "execution_count": 21,
     "metadata": {},
     "output_type": "execute_result"
    }
   ],
   "source": [
    "(cnn_without_dense.classify(images) == labels).sum() / len(images)"
   ]
  },
  {
   "cell_type": "code",
   "execution_count": 22,
   "id": "128fc5f8-0b76-413c-b6b4-c4f5ac5f43c9",
   "metadata": {},
   "outputs": [
    {
     "data": {
      "application/vnd.jupyter.widget-view+json": {
       "model_id": "4020b39a626342cfb5402a4f01b59fe4",
       "version_major": 2,
       "version_minor": 0
      },
      "text/plain": [
       "  0%|          | 0/100 [00:00<?, ?it/s]"
      ]
     },
     "metadata": {},
     "output_type": "display_data"
    }
   ],
   "source": [
    "torch_trainer_for_cnn_without_dense = TorchTrainer(model=cnn_without_dense, quantum_lr=0.1, classical_lr=0.1)\n",
    "torch_trainer_for_cnn_without_dense.freeze_quantum = True\n",
    "\n",
    "torch_trainer_for_cnn_without_dense.train_and_eval(dataloader, dataloader, epochs=epochs)"
   ]
  },
  {
   "cell_type": "code",
   "execution_count": 23,
   "id": "51c6d27e-71a4-4b19-a67b-a8039dcf62bc",
   "metadata": {},
   "outputs": [
    {
     "data": {
      "text/plain": [
       "tensor(0.5800)"
      ]
     },
     "execution_count": 23,
     "metadata": {},
     "output_type": "execute_result"
    }
   ],
   "source": [
    "(cnn_without_dense.classify(images) == labels).sum() / len(images)"
   ]
  },
  {
   "cell_type": "code",
   "execution_count": 24,
   "id": "1b34bf33-bfaf-40f6-b944-833e2ed2e81f",
   "metadata": {},
   "outputs": [
    {
     "data": {
      "text/plain": [
       "[0.705688762664795]"
      ]
     },
     "execution_count": 24,
     "metadata": {},
     "output_type": "execute_result"
    }
   ],
   "source": [
    "torch_trainer_for_cnn_without_dense.train_loss_history"
   ]
  },
  {
   "cell_type": "code",
   "execution_count": 25,
   "id": "dfb4cc4b-e787-4918-9f35-0526a71589b7",
   "metadata": {},
   "outputs": [],
   "source": [
    "class CNN(torch.nn.Module):\n",
    "    \"\"\"\n",
    "    CNN class for Mnist, of which input shape is (28, 28) and the number of classes is 10.\n",
    "    \"\"\"\n",
    "    def __init__(self, num_classes: int, num_dense_output: int, seed: int = 901):\n",
    "        torch.manual_seed(seed)\n",
    "        super(CNN, self).__init__()\n",
    "        self.conv1 = torch.nn.Conv2d(1, 16, kernel_size=5, padding=2, stride=1, dilation=1)  # 16x28x28\n",
    "        self.max_pool1 = torch.nn.MaxPool2d(kernel_size=2, stride=2, padding=0, dilation=1)  # 16x14x14\n",
    "        self.conv2 = torch.nn.Conv2d(16, 32, kernel_size=5, padding=2, stride=1, dilation=1)  # 32x14x14\n",
    "        self.max_pool2 = torch.nn.MaxPool2d(kernel_size=2, stride=2, padding=0, dilation=1)  # 32x7x7\n",
    "        \n",
    "        self.flatten = torch.nn.Flatten()  # 1568 = 32*7*7\n",
    "\n",
    "        self.fc = torch.nn.Linear(1568, num_dense_output)\n",
    "        \n",
    "        self.output = torch.nn.Linear(num_dense_output, num_classes)\n",
    "\n",
    "        self.relu = torch.nn.functional.relu\n",
    "        self.softmax = torch.nn.Softmax(dim=1)\n",
    "\n",
    "    def forward(self, x):\n",
    "        x = self.relu(self.conv1(x))\n",
    "        x = self.max_pool1(x)\n",
    "        x = self.relu(self.conv2(x))\n",
    "        x = self.max_pool2(x)\n",
    "        x = self.flatten(x)\n",
    "        x = self.fc(x)\n",
    "        probabilities = self.softmax(self.output(x))\n",
    "        return probabilities\n",
    "\n",
    "    def classify(self, x: torch.Tensor) -> torch.Tensor:\n",
    "        probabilities = self.forward(x)\n",
    "        return torch.argmax(probabilities, dim=1)"
   ]
  },
  {
   "cell_type": "code",
   "execution_count": 26,
   "id": "b82daba8-bf0e-42fc-885b-99df12f185c5",
   "metadata": {},
   "outputs": [
    {
     "data": {
      "text/plain": [
       "CNN(\n",
       "  (conv1): Conv2d(1, 16, kernel_size=(5, 5), stride=(1, 1), padding=(2, 2))\n",
       "  (max_pool1): MaxPool2d(kernel_size=2, stride=2, padding=0, dilation=1, ceil_mode=False)\n",
       "  (conv2): Conv2d(16, 32, kernel_size=(5, 5), stride=(1, 1), padding=(2, 2))\n",
       "  (max_pool2): MaxPool2d(kernel_size=2, stride=2, padding=0, dilation=1, ceil_mode=False)\n",
       "  (flatten): Flatten(start_dim=1, end_dim=-1)\n",
       "  (fc): Linear(in_features=1568, out_features=20, bias=True)\n",
       "  (output): Linear(in_features=20, out_features=2, bias=True)\n",
       "  (softmax): Softmax(dim=1)\n",
       ")"
      ]
     },
     "execution_count": 26,
     "metadata": {},
     "output_type": "execute_result"
    }
   ],
   "source": [
    "cnn = CNN(num_classes=2, num_dense_output=num_qubits*num_layers)\n",
    "cnn"
   ]
  },
  {
   "cell_type": "code",
   "execution_count": 27,
   "id": "3502a598-c9ed-4ff9-aee3-42dff36bbeac",
   "metadata": {},
   "outputs": [
    {
     "data": {
      "text/plain": [
       "tensor(0.5800)"
      ]
     },
     "execution_count": 27,
     "metadata": {},
     "output_type": "execute_result"
    }
   ],
   "source": [
    "(cnn.classify(images) == labels).sum() / len(images)"
   ]
  },
  {
   "cell_type": "code",
   "execution_count": 28,
   "id": "a24abeb9-8372-4016-bc11-61d88bd1d0cb",
   "metadata": {},
   "outputs": [
    {
     "data": {
      "application/vnd.jupyter.widget-view+json": {
       "model_id": "cb449571db2f4298abd1d15fdc1e007a",
       "version_major": 2,
       "version_minor": 0
      },
      "text/plain": [
       "  0%|          | 0/100 [00:00<?, ?it/s]"
      ]
     },
     "metadata": {},
     "output_type": "display_data"
    }
   ],
   "source": [
    "torch_trainer_for_cnn = TorchTrainer(model=cnn, quantum_lr=0.1, classical_lr=0.1)\n",
    "torch_trainer_for_cnn.freeze_quantum = True\n",
    "\n",
    "torch_trainer_for_cnn.train_and_eval(dataloader, dataloader, epochs=epochs)"
   ]
  },
  {
   "cell_type": "code",
   "execution_count": 29,
   "id": "10542a66-06d1-46c4-9ceb-fec4e8fc53ee",
   "metadata": {},
   "outputs": [
    {
     "data": {
      "text/plain": [
       "tensor(0.5800)"
      ]
     },
     "execution_count": 29,
     "metadata": {},
     "output_type": "execute_result"
    }
   ],
   "source": [
    "(cnn.classify(images) == labels).sum() / len(images)"
   ]
  },
  {
   "cell_type": "code",
   "execution_count": 30,
   "id": "5adc28e6-e9ef-428d-b689-9898e39e0d21",
   "metadata": {},
   "outputs": [
    {
     "data": {
      "text/plain": [
       "[0.7046664923429489]"
      ]
     },
     "execution_count": 30,
     "metadata": {},
     "output_type": "execute_result"
    }
   ],
   "source": [
    "torch_trainer_for_cnn.train_loss_history"
   ]
  }
 ],
 "metadata": {
  "kernelspec": {
   "display_name": "Python 3 (ipykernel)",
   "language": "python",
   "name": "python3"
  },
  "language_info": {
   "codemirror_mode": {
    "name": "ipython",
    "version": 3
   },
   "file_extension": ".py",
   "mimetype": "text/x-python",
   "name": "python",
   "nbconvert_exporter": "python",
   "pygments_lexer": "ipython3",
   "version": "3.12.9"
  }
 },
 "nbformat": 4,
 "nbformat_minor": 5
}
